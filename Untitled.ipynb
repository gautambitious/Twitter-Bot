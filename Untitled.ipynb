{
 "cells": [
  {
   "cell_type": "code",
   "execution_count": 8,
   "metadata": {},
   "outputs": [
    {
     "name": "stdout",
     "output_type": "stream",
     "text": [
      "This is my twitter bot\n",
      "Tweet Liked\n",
      "Retweeted\n",
      "Tweet Liked\n",
      "Retweeted\n",
      "Tweet Liked\n",
      "Retweeted\n",
      "Tweet Liked\n",
      "Retweeted\n",
      "Tweet Liked\n",
      "Retweeted\n",
      "Tweet Liked\n",
      "Retweeted\n",
      "Tweet Liked\n",
      "Retweeted\n",
      "Tweet Liked\n",
      "Retweeted\n",
      "[{'code': 139, 'message': 'You have already favorited this status.'}]\n",
      "Tweet Liked\n",
      "Retweeted\n"
     ]
    }
   ],
   "source": [
    "import tweepy\n",
    "import time\n",
    "from credentials import Creds\n",
    "\n",
    "creds = Creds()\n",
    "print('This is my twitter bot')\n",
    "\n",
    "consumer_key = creds.consumer_key\n",
    "consumer_secret = creds.consumer_secret\n",
    "access_key = creds.access_key\n",
    "access_secret = creds.access_secret\n",
    "\n",
    "# Authenticate to Twitter\n",
    "auth = tweepy.OAuthHandler(consumer_key, consumer_secret)\n",
    "auth.set_access_token(access_key, access_secret)\n",
    "\n",
    "# Create API object\n",
    "api = tweepy.API(auth, wait_on_rate_limit=True, wait_on_rate_limit_notify=True)\n",
    "\n",
    "#Twitter bot will automatically like posts for the given username or hashtag search\n",
    "search1 = 'news'\n",
    "nrTweets = 10\n",
    "for tweet in (tweepy.Cursor(api.search,search1).items(nrTweets) ):\n",
    "    try:\n",
    "        tweet.favorite()\n",
    "        print('Tweet Liked')\n",
    "        time.sleep(1)\n",
    "        tweet.retweet()\n",
    "        print('Retweeted')\n",
    "    except tweepy.TweepError as e:\n",
    "        print(e.reason)\n",
    "    except StopIteration:\n",
    "        break\n",
    "        "
   ]
  }
 ],
 "metadata": {
  "kernelspec": {
   "display_name": "Python 3",
   "language": "python",
   "name": "python3"
  },
  "language_info": {
   "codemirror_mode": {
    "name": "ipython",
    "version": 3
   },
   "file_extension": ".py",
   "mimetype": "text/x-python",
   "name": "python",
   "nbconvert_exporter": "python",
   "pygments_lexer": "ipython3",
   "version": "3.7.6"
  }
 },
 "nbformat": 4,
 "nbformat_minor": 4
}
